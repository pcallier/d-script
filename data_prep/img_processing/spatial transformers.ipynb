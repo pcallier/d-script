{
 "cells": [
  {
   "cell_type": "code",
   "execution_count": null,
   "metadata": {
    "collapsed": false
   },
   "outputs": [],
   "source": []
  },
  {
   "cell_type": "code",
   "execution_count": 1,
   "metadata": {
    "collapsed": false
   },
   "outputs": [
    {
     "name": "stdout",
     "output_type": "stream",
     "text": [
      "Populating the interactive namespace from numpy and matplotlib\n"
     ]
    }
   ],
   "source": [
    "import sys\n",
    "import pprint\n",
    "import os\n",
    "import numpy as np\n",
    "import keras\n",
    "from keras.utils.np_utils import to_categorical\n",
    "import h5py\n",
    "import yaml, json\n",
    "from PIL import Image\n",
    "%pylab inline\n",
    "plt.rcParams['image.cmap'] = 'gray'\n",
    "\n",
    "# get magic root folder\n",
    "config_path=\"/work/ds_config.yaml\"\n",
    "with open(config_path) as f:\n",
    "    configs = yaml.safe_load(f)\n",
    "sys.path.append(configs['PROJECT_ROOT'])\n",
    "\n",
    "\n",
    "from data_iters import hdf5_iterator"
   ]
  },
  {
   "cell_type": "code",
   "execution_count": 2,
   "metadata": {
    "collapsed": false
   },
   "outputs": [
    {
     "name": "stdout",
     "output_type": "stream",
     "text": [
      "Using Theano backend.\n"
     ]
    },
    {
     "name": "stderr",
     "output_type": "stream",
     "text": [
      "Using gpu device 0: GeForce GTX TITAN X (CNMeM is disabled)\n"
     ]
    }
   ],
   "source": [
    "import theano\n",
    "theano.config.exception_verbosity='high'\n",
    "theano.config.optimizer='fast_compile'\n",
    "\n",
    "from keras.models import Sequential\n",
    "from keras.layers.core import Dense, Dropout, Activation, Flatten, AutoEncoder\n",
    "from keras.layers.convolutional import MaxPooling2D, Convolution2D, Convolution1D\n",
    "\n",
    "from keras.optimizers import SGD, Adam\n",
    "\n",
    "from stn.attention import SpatialTransformer"
   ]
  },
  {
   "cell_type": "code",
   "execution_count": 3,
   "metadata": {
    "collapsed": false
   },
   "outputs": [],
   "source": [
    "#data\n",
    "nb_authors = 100\n",
    "nb_forms = 8\n",
    "shingle_dim = (128,128)\n",
    "iam_iter = hdf5_iterator.Hdf5MiniBatcher(\"/fileserver/iam/iam-processed/lines/author_lines.hdf5\",\n",
    "                                            nb_authors,\n",
    "                                            nb_forms,\n",
    "                                            shingle_dim=shingle_dim)"
   ]
  },
  {
   "cell_type": "raw",
   "metadata": {
    "collapsed": false
   },
   "source": [
    "#autoencoder\n",
    "def simple_autoencoder_layers():\n",
    "    encoder = Sequential()\n",
    "    encoder.add(Dense(128, input_dim=np.prod(shingle_dim)))\n",
    "    #encoder.add(Dense(16))\n",
    "    decoder = Sequential()\n",
    "    #decoder.add(Dense(128, input_dim=16))\n",
    "    decoder.add(Dense(1024, input_dim=128))\n",
    "    decoder.add(Dense(np.prod(shingle_dim)))\n",
    "\n",
    "    autoencoder = Sequential([AutoEncoder(encoder, decoder)])\n",
    "\n",
    "    sgd = SGD(lr=0.9, momentum=0.9)\n",
    "\n",
    "    autoencoder.compile(loss='rmse', optimizer=sgd)\n",
    "    return autoencoder"
   ]
  },
  {
   "cell_type": "raw",
   "metadata": {
    "collapsed": false
   },
   "source": [
    "def plot_example(test_img, input_shape, model):\n",
    "    test_response = model.predict(test_img, batch_size=1)\n",
    "    plt.figure()\n",
    "    plt.subplot(1,2,1)\n",
    "    plt.imshow(test_img.reshape(*input_shape))\n",
    "    plt.xlabel('Input')\n",
    "    plt.subplot(1,2,2)\n",
    "    plt.imshow(test_response.reshape(*input_shape))\n",
    "    plt.xlabel('Output')\n",
    "        \n",
    "batch_size = 32\n",
    "total_iters = 5000\n",
    "autoencoder = simple_autoencoder_layers()\n",
    "for batch_iter in xrange(total_iters):\n",
    "    [X_train, Y_train] = iam_iter.get_train_batch(batch_size)\n",
    "    X_train = X_train.reshape(batch_size, -1)\n",
    "    #X_train = np.expand_dims(X_train, 1)\n",
    "    #X_train = randangle(X_train)\n",
    "    #Y_train = to_categorical(Y_train, num_authors)\n",
    "    autoencoder.fit(X_train, X_train, batch_size=batch_size, nb_epoch=1, show_accuracy=True, verbose=0)\n",
    "    \n",
    "    # plot example\n",
    "    if  batch_iter % 1000 == 0:\n",
    "        test_img = X_train[[0],:]\n",
    "        plot_example(test_img, (128,128), autoencoder)\n",
    "\n",
    "                   \n",
    "    "
   ]
  },
  {
   "cell_type": "code",
   "execution_count": 4,
   "metadata": {
    "collapsed": false
   },
   "outputs": [],
   "source": [
    "# initial weights\n",
    "batch_size = 256\n",
    "epoch_size = 1000\n",
    "\n",
    "b = np.zeros((2, 3), dtype='float32')\n",
    "b[0, 0] = 1\n",
    "b[1, 1] = 1\n",
    "W = np.zeros((50, 6), dtype='float32')\n",
    "weights = [W, b.flatten()]\n",
    "\n",
    "input_shape = (1,128,128)\n",
    "\n",
    "# from seya's STN demo notebook:\n",
    "locnet = Sequential()\n",
    "locnet.add(MaxPooling2D(pool_size=(4,4), input_shape=input_shape))\n",
    "locnet.add(Convolution2D(20, 4, 4))\n",
    "locnet.add(MaxPooling2D(pool_size=(2,2)))\n",
    "locnet.add(Convolution2D(20, 4, 4))\n",
    "\n",
    "locnet.add(Flatten(input_shape=input_shape))\n",
    "locnet.add(Dense(50))\n",
    "locnet.add(Activation('relu'))\n",
    "locnet.add(Dense(6, weights=weights))"
   ]
  },
  {
   "cell_type": "code",
   "execution_count": 5,
   "metadata": {
    "collapsed": false
   },
   "outputs": [],
   "source": [
    "model = Sequential()\n",
    "model.add(SpatialTransformer(locnet, input_shape=input_shape,downsample_factor=4))\n",
    "model.add(Convolution2D(32, 4, 4, border_mode='valid'))\n",
    "model.add(Activation('relu'))\n",
    "model.add(MaxPooling2D(pool_size=(2, 2)))\n",
    "model.add(Convolution2D(32, 3, 3))\n",
    "model.add(Activation('relu'))\n",
    "model.add(MaxPooling2D(pool_size=(8, 8)))\n",
    "\n",
    "model.add(Flatten())\n",
    "model.add(Dense(256))\n",
    "model.add(Activation('relu'))\n",
    "\n",
    "model.add(Dense(nb_authors))\n",
    "model.add(Activation('softmax'))\n",
    "\n",
    "adam = Adam(lr=0.0001)\n",
    "\n",
    "model.compile(loss='categorical_crossentropy', optimizer=adam)"
   ]
  },
  {
   "cell_type": "code",
   "execution_count": 6,
   "metadata": {
    "collapsed": false
   },
   "outputs": [
    {
     "name": "stdout",
     "output_type": "stream",
     "text": [
      "{'layers': [{'border_mode': 'valid',\n",
      "             'cache_enabled': True,\n",
      "             'dim_ordering': 'th',\n",
      "             'input_shape': (1, 128, 128),\n",
      "             'name': 'MaxPooling2D',\n",
      "             'pool_size': (4, 4),\n",
      "             'strides': (4, 4)},\n",
      "            {'W_constraint': None,\n",
      "             'W_regularizer': None,\n",
      "             'activation': 'linear',\n",
      "             'activity_regularizer': None,\n",
      "             'b_constraint': None,\n",
      "             'b_regularizer': None,\n",
      "             'border_mode': 'valid',\n",
      "             'cache_enabled': True,\n",
      "             'dim_ordering': 'th',\n",
      "             'init': 'glorot_uniform',\n",
      "             'name': 'Convolution2D',\n",
      "             'nb_col': 4,\n",
      "             'nb_filter': 20,\n",
      "             'nb_row': 4,\n",
      "             'subsample': (1, 1)},\n",
      "            {'border_mode': 'valid',\n",
      "             'cache_enabled': True,\n",
      "             'dim_ordering': 'th',\n",
      "             'name': 'MaxPooling2D',\n",
      "             'pool_size': (2, 2),\n",
      "             'strides': (2, 2)},\n",
      "            {'W_constraint': None,\n",
      "             'W_regularizer': None,\n",
      "             'activation': 'linear',\n",
      "             'activity_regularizer': None,\n",
      "             'b_constraint': None,\n",
      "             'b_regularizer': None,\n",
      "             'border_mode': 'valid',\n",
      "             'cache_enabled': True,\n",
      "             'dim_ordering': 'th',\n",
      "             'init': 'glorot_uniform',\n",
      "             'name': 'Convolution2D',\n",
      "             'nb_col': 4,\n",
      "             'nb_filter': 20,\n",
      "             'nb_row': 4,\n",
      "             'subsample': (1, 1)},\n",
      "            {'cache_enabled': True,\n",
      "             'input_shape': (1, 128, 128),\n",
      "             'name': 'Flatten'},\n",
      "            {'W_constraint': None,\n",
      "             'W_regularizer': None,\n",
      "             'activation': 'linear',\n",
      "             'activity_regularizer': None,\n",
      "             'b_constraint': None,\n",
      "             'b_regularizer': None,\n",
      "             'cache_enabled': True,\n",
      "             'init': 'glorot_uniform',\n",
      "             'input_dim': None,\n",
      "             'name': 'Dense',\n",
      "             'output_dim': 50},\n",
      "            {'activation': 'relu',\n",
      "             'cache_enabled': True,\n",
      "             'name': 'Activation'},\n",
      "            {'W_constraint': None,\n",
      "             'W_regularizer': None,\n",
      "             'activation': 'linear',\n",
      "             'activity_regularizer': None,\n",
      "             'b_constraint': None,\n",
      "             'b_regularizer': None,\n",
      "             'cache_enabled': True,\n",
      "             'init': 'glorot_uniform',\n",
      "             'input_dim': None,\n",
      "             'name': 'Dense',\n",
      "             'output_dim': 6}],\n",
      " 'name': 'Sequential'}\n",
      "{'class_mode': 'categorical',\n",
      " 'layers': [{'cache_enabled': True,\n",
      "             'input_shape': (1, 128, 128),\n",
      "             'name': 'SpatialTransformer'},\n",
      "            {'W_constraint': None,\n",
      "             'W_regularizer': None,\n",
      "             'activation': 'linear',\n",
      "             'activity_regularizer': None,\n",
      "             'b_constraint': None,\n",
      "             'b_regularizer': None,\n",
      "             'border_mode': 'valid',\n",
      "             'cache_enabled': True,\n",
      "             'dim_ordering': 'th',\n",
      "             'init': 'glorot_uniform',\n",
      "             'name': 'Convolution2D',\n",
      "             'nb_col': 4,\n",
      "             'nb_filter': 32,\n",
      "             'nb_row': 4,\n",
      "             'subsample': (1, 1)},\n",
      "            {'activation': 'relu',\n",
      "             'cache_enabled': True,\n",
      "             'name': 'Activation'},\n",
      "            {'border_mode': 'valid',\n",
      "             'cache_enabled': True,\n",
      "             'dim_ordering': 'th',\n",
      "             'name': 'MaxPooling2D',\n",
      "             'pool_size': (2, 2),\n",
      "             'strides': (2, 2)},\n",
      "            {'W_constraint': None,\n",
      "             'W_regularizer': None,\n",
      "             'activation': 'linear',\n",
      "             'activity_regularizer': None,\n",
      "             'b_constraint': None,\n",
      "             'b_regularizer': None,\n",
      "             'border_mode': 'valid',\n",
      "             'cache_enabled': True,\n",
      "             'dim_ordering': 'th',\n",
      "             'init': 'glorot_uniform',\n",
      "             'name': 'Convolution2D',\n",
      "             'nb_col': 3,\n",
      "             'nb_filter': 32,\n",
      "             'nb_row': 3,\n",
      "             'subsample': (1, 1)},\n",
      "            {'activation': 'relu',\n",
      "             'cache_enabled': True,\n",
      "             'name': 'Activation'},\n",
      "            {'border_mode': 'valid',\n",
      "             'cache_enabled': True,\n",
      "             'dim_ordering': 'th',\n",
      "             'name': 'MaxPooling2D',\n",
      "             'pool_size': (8, 8),\n",
      "             'strides': (8, 8)},\n",
      "            {'cache_enabled': True, 'name': 'Flatten'},\n",
      "            {'W_constraint': None,\n",
      "             'W_regularizer': None,\n",
      "             'activation': 'linear',\n",
      "             'activity_regularizer': None,\n",
      "             'b_constraint': None,\n",
      "             'b_regularizer': None,\n",
      "             'cache_enabled': True,\n",
      "             'init': 'glorot_uniform',\n",
      "             'input_dim': None,\n",
      "             'name': 'Dense',\n",
      "             'output_dim': 256},\n",
      "            {'activation': 'relu',\n",
      "             'cache_enabled': True,\n",
      "             'name': 'Activation'},\n",
      "            {'W_constraint': None,\n",
      "             'W_regularizer': None,\n",
      "             'activation': 'linear',\n",
      "             'activity_regularizer': None,\n",
      "             'b_constraint': None,\n",
      "             'b_regularizer': None,\n",
      "             'cache_enabled': True,\n",
      "             'init': 'glorot_uniform',\n",
      "             'input_dim': None,\n",
      "             'name': 'Dense',\n",
      "             'output_dim': 100},\n",
      "            {'activation': 'softmax',\n",
      "             'cache_enabled': True,\n",
      "             'name': 'Activation'}],\n",
      " 'loss': 'categorical_crossentropy',\n",
      " 'name': 'Sequential',\n",
      " 'optimizer': {'beta_1': 0.8999999761581421,\n",
      "               'beta_2': 0.9990000128746033,\n",
      "               'epsilon': 1e-08,\n",
      "               'lr': 9.999999747378752e-05,\n",
      "               'name': 'Adam'}}\n"
     ]
    }
   ],
   "source": [
    "# allows visualizing STN output\n",
    "XX = model.get_input()\n",
    "YY = model.layers[0].get_output()\n",
    "F = theano.function([XX], YY)\n",
    "\n",
    "pprint.pprint(locnet.get_config())\n",
    "pprint.pprint(model.get_config())"
   ]
  },
  {
   "cell_type": "code",
   "execution_count": 7,
   "metadata": {
    "collapsed": false
   },
   "outputs": [
    {
     "name": "stdout",
     "output_type": "stream",
     "text": [
      "----------------------------------------\n",
      "Epoch: 0 | Train: 0.02734375\n"
     ]
    },
    {
     "data": {
      "image/png": "[encoded data removed]",
      "text/plain": [
       "<matplotlib.figure.Figure at 0x7fb8d9182750>"
      ]
     },
     "metadata": {},
     "output_type": "display_data"
    },
    {
     "name": "stdout",
     "output_type": "stream",
     "text": [
      "----------------------------------------\n"
     ]
    }
   ],
   "source": [
    "nb_epochs = 50 # you probably want to go longer than this\n",
    "\n",
    "fig = plt.figure()\n",
    "try:\n",
    "    for e in range(nb_epochs):\n",
    "        print('-'*40)\n",
    "        #progbar = generic_utils.Progbar(X_train.shape[0])\n",
    "        for b in range(epoch_size):\n",
    "            f = b * batch_size\n",
    "            l = (b+1) * batch_size\n",
    "            [X_batch, y_batch] = iam_iter.get_train_batch(batch_size)\n",
    "            # add an invisible dimension\n",
    "            X_batch = np.expand_dims(X_batch, 1).astype('float32')\n",
    "            y_batch = to_categorical(y_batch, nb_authors).astype('float32')\n",
    "            loss = model.train_on_batch(X_batch, y_batch)\n",
    "            #progbar.add(X_batch.shape[0], values=[(\"train loss\", loss)])\n",
    "        scoretr = model.evaluate(X_batch, y_batch, show_accuracy=True, verbose=0)[1]\n",
    "        #scorev = model.evaluate(X_valid, y_valid, show_accuracy=True, verbose=0)[1]\n",
    "        #scoret = model.evaluate(X_test, y_test, show_accuracy=True, verbose=0)[1]\n",
    "        print('Epoch: {0} | Train: {1}'.format(e, scoretr))\n",
    "\n",
    "        if e % 5 == 0:\n",
    "            Xresult = F(X_batch[:9])\n",
    "            plt.clf()\n",
    "            for i in range(9):\n",
    "                plt.subplot(3, 6, i*2+1)\n",
    "                plt.imshow(X_batch[i, 0], cmap='gray')\n",
    "                plt.subplot(3, 6, i*2+2)\n",
    "                plt.imshow(Xresult[i, 0], cmap='gray')\n",
    "                plt.axis('off')\n",
    "            fig.canvas.draw()\n",
    "            plt.show()\n",
    "except KeyboardInterrupt:\n",
    "    pass"
   ]
  },
  {
   "cell_type": "code",
   "execution_count": null,
   "metadata": {
    "collapsed": false
   },
   "outputs": [],
   "source": []
  },
  {
   "cell_type": "code",
   "execution_count": null,
   "metadata": {
    "collapsed": true
   },
   "outputs": [],
   "source": []
  }
 ],
 "metadata": {
  "kernelspec": {
   "display_name": "Python 2",
   "language": "python",
   "name": "python2"
  },
  "language_info": {
   "codemirror_mode": {
    "name": "ipython",
    "version": 2
   },
   "file_extension": ".py",
   "mimetype": "text/x-python",
   "name": "python",
   "nbconvert_exporter": "python",
   "pygments_lexer": "ipython2",
   "version": "2.7.6"
  }
 },
 "nbformat": 4,
 "nbformat_minor": 0
}
