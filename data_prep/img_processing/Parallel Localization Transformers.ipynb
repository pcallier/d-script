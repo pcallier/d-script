{
 "cells": [
  {
   "cell_type": "code",
   "execution_count": 1,
   "metadata": {
    "collapsed": false
   },
   "outputs": [
    {
     "name": "stdout",
     "output_type": "stream",
     "text": [
      "Populating the interactive namespace from numpy and matplotlib\n"
     ]
    },
    {
     "name": "stderr",
     "output_type": "stream",
     "text": [
      "Using gpu device 0: GeForce GTX TITAN X (CNMeM is disabled)\n"
     ]
    }
   ],
   "source": [
    "import sys\n",
    "import pprint\n",
    "import os\n",
    "import time\n",
    "import numpy as np\n",
    "import h5py\n",
    "import yaml, json\n",
    "from PIL import Image\n",
    "import IPython\n",
    "%pylab inline\n",
    "plt.rcParams['image.cmap'] = 'gray'\n",
    "\n",
    "# get magic root folder\n",
    "config_path=\"/work/ds_config.yaml\"\n",
    "with open(config_path) as f:\n",
    "    configs = yaml.safe_load(f)\n",
    "sys.path.append(configs['PROJECT_ROOT'])\n",
    "\n",
    "# project-specific\n",
    "from data_iters import iam_hdf5_iterator\n",
    "from viz_tools import VizUtils, array_to_png\n",
    "data_root = configs['DATA_ROOT']\n",
    "\n",
    "# deep learning imports\n",
    "import keras\n",
    "from keras.utils.np_utils import to_categorical\n",
    "import theano\n",
    "theano.config.exception_verbosity='high'\n",
    "theano.config.optimizer='fast_compile'\n",
    "\n",
    "from keras.models import Sequential, Graph\n",
    "from keras.layers.core import Dense, Dropout, Activation, Flatten, AutoEncoder, Merge\n",
    "from keras.layers.convolutional import MaxPooling2D, Convolution2D, Convolution1D\n",
    "\n",
    "from keras.optimizers import SGD, Adam\n",
    "\n",
    "from seya.attention import SpatialTransformer"
   ]
  },
  {
   "cell_type": "raw",
   "metadata": {
    "collapsed": false
   },
   "source": [
    "form_id = 'a04-010'\n",
    "\n",
    "img_array = iam_get_hw(form_id, data_root)\n",
    "# take bottom 40%\n",
    "img_sample = array_to_png.get_png_from_array(img_array[int(0.6*img_array.shape[0]):])\n",
    "img_png = array_to_png.get_png_from_array(img_array)\n",
    "#IPython.display.Image(img_png,format='png')\n",
    "IPython.display.Image(img_sample,format='png')\n",
    "    "
   ]
  },
  {
   "cell_type": "code",
   "execution_count": 18,
   "metadata": {
    "collapsed": true
   },
   "outputs": [],
   "source": [
    "def iam_get_hw(hdf5_set, form_id):   \n",
    "    hw_l, hw_t, hw_r, hw_b = VizUtils.iam_get_text_block(form_id, data_root)\n",
    "    start=time.time() \n",
    "    img_array = hdf5_set[form_id][hw_t:hw_b,hw_l:hw_r]\n",
    "    end = time.time()\n",
    "    print end-start\n",
    "    return img_array\n",
    "\n",
    "class IamHandwritingIterator:\n",
    "    def __init__(self, data_root, data_object, h_start=0., h_end=1.,fixed_width=None,crop_height=None):\n",
    "        self.data_root = data_root\n",
    "        self.limits = h_start, h_end\n",
    "        self.forms_list = [ f[:-4] for f in os.listdir(os.path.join(data_root, \"forms\")) if f[-4:]==\".png\"]\n",
    "        self.fixed_width=fixed_width\n",
    "        self.crop_height=crop_height\n",
    "        self.data_object = data_object\n",
    "    \n",
    "    def __iter__(self):\n",
    "        return self\n",
    "    \n",
    "    @staticmethod\n",
    "    def get_author(form_id, data_root):\n",
    "        forms_data = os.path.join(data_root, \"forms.txt\")\n",
    "        with open(forms_data) as f:\n",
    "            for form_line in f:\n",
    "                fields = form_line.split(' ')\n",
    "                try:\n",
    "                    b_form_id = fields[0]\n",
    "                    author_id = fields[1]\n",
    "                except IndexError:\n",
    "                    continue\n",
    "                if b_form_id == form_id:\n",
    "                    return author_id\n",
    "                \n",
    "    @staticmethod\n",
    "    def crop_and_resize(img, nb_rows=None, nb_cols=None, mode='L'):\n",
    "        \"\"\" Crop height of and/or rescale width of img.\"\"\"\n",
    "        # crop to requisite rows\n",
    "        if nb_rows is not None:\n",
    "            assert img.shape[0] >= nb_rows\n",
    "            img = img[:nb_rows,:]\n",
    "        if nb_cols is not None:\n",
    "            print \"Resizing from {0} cols to {0}\".format(img.shape[1], nb_cols)\n",
    "            img_pil = Image.fromarray(np.array(img,dtype='float'), mode=mode)\n",
    "            img_pil = img_pil.resize((nb_cols, img.shape[0]))\n",
    "            img = np.array(img_pil.getdata(), dtype='int16').reshape(-1, nb_cols)\n",
    "        return img\n",
    "    \n",
    "    def next(self):\n",
    "        try:\n",
    "            next_form = self.forms_list.pop()\n",
    "        except IndexError:\n",
    "            raise StopIteration\n",
    "            \n",
    "        # open img\n",
    "        img = iam_get_hw(self.data_object, next_form)\n",
    "        top = int(img.shape[0] * self.limits[0])\n",
    "        bottom = int(img.shape[0] * self.limits[1])\n",
    "        img = img[top:bottom,:]\n",
    "        #img = self.crop_and_resize(img, self.crop_height, self.fixed_width)\n",
    "        author = self.get_author(next_form, self.data_root)\n",
    "        #author = 0\n",
    "        return author, img"
   ]
  },
  {
   "cell_type": "code",
   "execution_count": null,
   "metadata": {
    "collapsed": false
   },
   "outputs": [],
   "source": [
    "forms_path = os.path.join(data_root, \"iam-processed/forms/forms.hdf5\")    \n",
    "with h5py.File(forms_path, \"r\") as f:\n",
    "    foo = IamHandwritingIterator(data_root, f, 0., 1., fixed_width=None, crop_height=None)\n",
    "    for i, (author, form) in enumerate(foo):\n",
    "        IPython.display.clear_output(wait=True)\n",
    "        form_png = array_to_png.get_png_from_array(form)\n",
    "        print \"Author:\", author\n",
    "        print form.shape\n",
    "        print \"{0} printed\".format(i)\n",
    "        IPython.display.display_png(form_png,raw=True)\n",
    "        time.sleep(1)\n",
    "\n",
    "    "
   ]
  },
  {
   "cell_type": "code",
   "execution_count": null,
   "metadata": {
    "collapsed": false
   },
   "outputs": [],
   "source": [
    "%pdb"
   ]
  },
  {
   "cell_type": "code",
   "execution_count": 12,
   "metadata": {
    "collapsed": false
   },
   "outputs": [],
   "source": [
    "# Localization Net\n",
    "batch_size = 256\n",
    "epoch_size = 1000\n",
    "nb_authors = 100\n",
    "\n",
    "\n",
    "def locnet_model(input_shape = (1,120,120)):\n",
    "    b = np.zeros((2, 3), dtype='float32')\n",
    "    b[0, 0] = 1\n",
    "    b[1, 1] = 1\n",
    "    W = np.zeros((50, 6), dtype='float32')\n",
    "    weights = [W, b.flatten()]\n",
    "    # from seya's STN demo notebook:\n",
    "    locnet = Sequential()\n",
    "    locnet.add(MaxPooling2D(pool_size=(4,4), input_shape=input_shape))\n",
    "    locnet.add(Convolution2D(20, 4, 4))\n",
    "    locnet.add(MaxPooling2D(pool_size=(2,2)))\n",
    "    locnet.add(Convolution2D(20, 4, 4))\n",
    "\n",
    "    locnet.add(Flatten(input_shape=input_shape))\n",
    "    locnet.add(Dense(50))\n",
    "    locnet.add(Activation('relu'))\n",
    "    locnet.add(Dense(6, weights=weights))\n",
    "    \n",
    "    return locnet\n",
    "\n",
    "def stn_model(locnet, input_shape=(1,120,120), nb_outputs=100, downsample_factor=2):\n",
    "    model = Sequential()\n",
    "    model.add(SpatialTransformer(locnet, input_shape=input_shape, downsample_factor=downsample_factor))\n",
    "    model.add(Convolution2D(32, 4, 4, border_mode='valid'))\n",
    "    model.add(Activation('relu'))\n",
    "    model.add(MaxPooling2D(pool_size=(2, 2)))\n",
    "    model.add(Convolution2D(32, 3, 3))\n",
    "    model.add(Activation('relu'))\n",
    "    model.add(MaxPooling2D(pool_size=(8, 8)))\n",
    "\n",
    "    model.add(Flatten())\n",
    "    model.add(Dense(256))\n",
    "    model.add(Activation('relu'))\n",
    "\n",
    "    model.add(Dense(nb_outputs))\n",
    "    model.add(Activation('softmax'))\n",
    "\n",
    "    adam = Adam(lr=0.0001)\n",
    "\n",
    "    model.compile(loss='categorical_crossentropy', optimizer=adam)\n",
    "    \n",
    "    return model\n",
    "\n",
    "def p_stn_model(locnets, input_shape=(1,120,120), nb_stns=10, nb_outputs=100, downsample_factor=2):\n",
    "    model = Graph()\n",
    "    # add STNs at start that each look at the same input\n",
    "    model.add_input(name='input', input_shape=input_shape)\n",
    "    stn_names = [ 'stn{0}'.format(i) for i in range(nb_stns) ]\n",
    "    for i in range(nb_stns):\n",
    "        model.add_node(SpatialTransformer(locnets[i], input_shape=input_shape, downsample_factor=downsample_factor),\n",
    "                       name=stn_names[i], input='input')\n",
    "    model.add_node(Convolution2D(32, 4, 4, border_mode='valid'), name='conv1', \n",
    "                   inputs=stn_names, concat_axis=1)\n",
    "    model.add_node(Activation('relu'), name='relu1', input='conv1')\n",
    "    model.add_node(MaxPooling2D(pool_size=(2, 2)), name='maxpool1', input='relu1')\n",
    "    model.add_node(Convolution2D(32, 3, 3), name='conv2', input='maxpool1')\n",
    "    model.add_node(Activation('relu'), name='relu2', input='conv2')\n",
    "    model.add_node(MaxPooling2D(pool_size=(8, 8)), name='maxpool2', input='relu2')\n",
    "\n",
    "    model.add_node(Flatten(), name='flatten1', input='maxpool2')\n",
    "    model.add_node(Dense(256), name='dense1', input='flatten1')\n",
    "    model.add_node(Activation('relu'), name='relu3', input='dense1')\n",
    "\n",
    "    model.add_node(Dense(nb_outputs), name='dense2', input='relu3')\n",
    "    model.add_node(Activation('softmax'), name='softmax1', input='dense2')\n",
    "    model.add_output(name='output1', input='softmax1')\n",
    "\n",
    "    adam = Adam(lr=0.0001)\n",
    "\n",
    "    model.compile(loss={'output1': 'categorical_crossentropy'}, optimizer=adam)\n",
    "    \n",
    "    return model\n"
   ]
  },
  {
   "cell_type": "code",
   "execution_count": 13,
   "metadata": {
    "collapsed": false
   },
   "outputs": [],
   "source": [
    "nb_stns = 10\n",
    "locnets = [ locnet_model() for i in range(nb_stns) ]\n",
    "p_stn = p_stn_model(locnets, nb_stns=nb_stns)"
   ]
  },
  {
   "cell_type": "raw",
   "metadata": {
    "collapsed": true
   },
   "source": [
    "# make HDF5 of IAM writing blocks\n",
    "forms_path = os.path.join(data_root, \"iam-processed/forms/forms.hdf5\")    \n",
    "with h5py.File(\"authors_writing.hdf5\", \"w\") as hw:\n",
    "    with h5py.File(forms_path, \"r\") as f:\n",
    "        foo = IamHandwritingIterator(data_root, f, 0., 1., fixed_width=None, crop_height=None)\n",
    "        ######for i, (author, form_id, form) in enumerate(foo):\n",
    "            IPython.display.clear_output(wait=True)\n",
    "            # write img to HDF5\n",
    "            try:\n",
    "                hw.create_group(author)\n",
    "            except:\n",
    "                pass\n",
    "            hw[author].create_dataset(form_id, data=form.astype('uint8'))\n",
    "            print i, author, form_id\n",
    "        "
   ]
  },
  {
   "cell_type": "code",
   "execution_count": 17,
   "metadata": {
    "collapsed": false
   },
   "outputs": [
    {
     "data": {
      "text/plain": [
       "['__class__',\n",
       " '__delattr__',\n",
       " '__dict__',\n",
       " '__doc__',\n",
       " '__format__',\n",
       " '__getattribute__',\n",
       " '__hash__',\n",
       " '__init__',\n",
       " '__module__',\n",
       " '__new__',\n",
       " '__reduce__',\n",
       " '__reduce_ex__',\n",
       " '__repr__',\n",
       " '__setattr__',\n",
       " '__sizeof__',\n",
       " '__str__',\n",
       " '__subclasshook__',\n",
       " '__weakref__',\n",
       " '_input_shape',\n",
       " '_interpolate',\n",
       " '_linspace',\n",
       " '_meshgrid',\n",
       " '_repeat',\n",
       " '_transform',\n",
       " 'build',\n",
       " 'constraints',\n",
       " 'count_params',\n",
       " 'downsample_factor',\n",
       " 'get_config',\n",
       " 'get_input',\n",
       " 'get_output',\n",
       " 'get_output_mask',\n",
       " 'get_params',\n",
       " 'get_weights',\n",
       " 'input',\n",
       " 'input_shape',\n",
       " 'locnet',\n",
       " 'nb_input',\n",
       " 'nb_output',\n",
       " 'output_shape',\n",
       " 'params',\n",
       " 'previous',\n",
       " 'regularizers',\n",
       " 'return_theta',\n",
       " 'set_input_shape',\n",
       " 'set_name',\n",
       " 'set_previous',\n",
       " 'set_weights',\n",
       " 'supports_masked_input',\n",
       " 'trainable']"
      ]
     },
     "execution_count": 17,
     "metadata": {},
     "output_type": "execute_result"
    }
   ],
   "source": [
    "def get_transform_fn(node):\n",
    "    XX = node.get_input()\n",
    "    YY = node.get_output()\n",
    "    F = theano.function([XX],YY)\n",
    "    return F\n",
    "\n",
    "viz_funcs = [ get_transform_fn(p_stn.nodes['stn{0}'.format(i)] for i in range(nb_stns)) ]\n",
    "\n",
    "def accumulate_batch(batch_size=32, iter_object, *args, **kwargs):\n",
    "    batch = []\n",
    "    while True:\n",
    "        foo = iter_object(*args, **kwargs)\n",
    "        try:\n",
    "            for author, frag in foo:\n",
    "                batch.append(frag, author)\n",
    "                if len(batch) == batch_size:\n",
    "                    yield batch\n",
    "                    batch = []\n",
    "            "
   ]
  },
  {
   "cell_type": "code",
   "execution_count": null,
   "metadata": {
    "collapsed": true
   },
   "outputs": [],
   "source": []
  }
 ],
 "metadata": {
  "kernelspec": {
   "display_name": "Python 2",
   "language": "python",
   "name": "python2"
  },
  "language_info": {
   "codemirror_mode": {
    "name": "ipython",
    "version": 2
   },
   "file_extension": ".py",
   "mimetype": "text/x-python",
   "name": "python",
   "nbconvert_exporter": "python",
   "pygments_lexer": "ipython2",
   "version": "2.7.6"
  }
 },
 "nbformat": 4,
 "nbformat_minor": 0
}
